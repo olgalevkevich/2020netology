{
 "cells": [
  {
   "cell_type": "markdown",
   "metadata": {},
   "source": [
    "Вы работаете секретарем и вам постоянно приходят различные документы. Вы должны быть очень внимательны, чтобы не потерять ни один документ. Каталог документов хранится в следующем виде:"
   ]
  },
  {
   "cell_type": "code",
   "execution_count": 201,
   "metadata": {},
   "outputs": [],
   "source": [
    "documents = [\n",
    "    {'type': 'passport', 'number': '2207 876234', 'name': 'Василий Гупкин'},\n",
    "    {'type': 'invoice', 'number': '11-2', 'name': 'Геннадий Покемонов'},\n",
    "    {'type': 'insurance', 'number': '10006', 'name': 'Аристарх Павлов'}\n",
    "]"
   ]
  },
  {
   "cell_type": "markdown",
   "metadata": {},
   "source": [
    "Перечень полок, на которых находятся документы хранится в следующем виде:"
   ]
  },
  {
   "cell_type": "code",
   "execution_count": 202,
   "metadata": {},
   "outputs": [],
   "source": [
    "directories = {\n",
    "    '1': ['2207 876234', '11-2'],\n",
    "    '2': ['10006'],\n",
    "    '3': []\n",
    "}"
   ]
  },
  {
   "cell_type": "markdown",
   "metadata": {},
   "source": [
    "Необходимо реализовать пользовательские команды (внимание! это не название функций, которые должны быть выразительными, а команды, которые вводит пользователь, чтобы получить необходимый результат):\n",
    "  \n",
    "- p – people – команда, которая спросит номер документа и выведет имя человека, которому он принадлежит;  \n",
    "- s – shelf – команда, которая спросит номер документа и выведет номер полки, на которой он находится  \n",
    "Правильно обработайте ситуацию, когда пользователь будет вводить несуществующий документ.\n",
    "- l – list – команда, которая выведет список всех документов в формате   \n",
    "**passport \"2207 876234\" \"Василий Гупкин\"**  \n",
    "- as – add shelf – команда, которая спросит номер новой полки и добавит ее в перечень\n",
    "- d – delete – команда, которая спросит номер документа и удалит его из каталога и из перечня полок. Предусмотрите сценарий, когда пользователь вводит несуществующий документ;  \n",
    "- m – move – команда, которая спросит номер документа и целевую полку и переместит его с текущей полки на целевую. Корректно обработайте кейсы, когда пользователь пытается переместить несуществующий документ или переместить документ на несуществующую полку;  \n",
    "- a – add – команда, которая добавит новый документ в каталог и в перечень полок, спросив его номер, тип, имя владельца и номер полки, на котором он будет храниться."
   ]
  },
  {
   "cell_type": "code",
   "execution_count": 178,
   "metadata": {},
   "outputs": [],
   "source": [
    "# проверка корректности ввода номера документа\n",
    "def number_is_correct(correct_number):\n",
    "    i = 0\n",
    "    for element in documents:\n",
    "        if correct_number == element['number']:\n",
    "            i = 1\n",
    "    if i == 0:\n",
    "        print ('Номер документа введен неправильно, повторите ввод')  "
   ]
  },
  {
   "cell_type": "code",
   "execution_count": 179,
   "metadata": {},
   "outputs": [],
   "source": [
    "# проверка корректности ввода полки\n",
    "def shelf_is_correct(correct_shelf):\n",
    "    j = 0\n",
    "    for new_element in directories:\n",
    "        if correct_shelf == new_element:\n",
    "            j = 1\n",
    "    if j == 0:\n",
    "        print ('Номер полки введен неправильно, повторите ввод')  "
   ]
  },
  {
   "cell_type": "code",
   "execution_count": 180,
   "metadata": {},
   "outputs": [],
   "source": [
    "# вывод имени по номеру документа\n",
    "def number_doc_name(user_number):\n",
    "    number_is_correct(user_number)\n",
    "    for item in documents:\n",
    "        if user_number == item['number']:\n",
    "            print('Владелец: ', item['name'])"
   ]
  },
  {
   "cell_type": "code",
   "execution_count": 162,
   "metadata": {},
   "outputs": [],
   "source": [
    "# вывод полки по номеру документа\n",
    "def number_doc_shelf(user_number_1):\n",
    "    number_is_correct(user_number_1)\n",
    "    for key in directories:\n",
    "        for doc in directories[key]:\n",
    "            if user_number_1 == doc:\n",
    "                print('у номера документа:', doc, '-', 'номер полки:', key)"
   ]
  },
  {
   "cell_type": "code",
   "execution_count": 188,
   "metadata": {},
   "outputs": [],
   "source": [
    "# вывод всех документов\n",
    "def all_documents_list(my_documents):\n",
    "    print('Cписок всех документов:')\n",
    "    for document in my_documents:\n",
    "        print(document['type'], ' ', '\"', document['number'], '\"', ' ', '\"', document['name'], '\"', sep ='')"
   ]
  },
  {
   "cell_type": "code",
   "execution_count": 182,
   "metadata": {},
   "outputs": [],
   "source": [
    "# добавление новой полки\n",
    "def shelf_addition(shelf_number):\n",
    "    x = 0\n",
    "    for ex_shelf in directories:\n",
    "        if ex_shelf == shelf_number:\n",
    "            print('Такая полка уже существует, повтортие ввод')\n",
    "            x = 1\n",
    "            break\n",
    "    if x == 0:\n",
    "        directories[shelf_number] = []\n",
    "        print('Новый перечень полок с документами:')\n",
    "        print(directories)"
   ]
  },
  {
   "cell_type": "code",
   "execution_count": 183,
   "metadata": {},
   "outputs": [],
   "source": [
    "# удаление документов\n",
    "def number_delete(user_number_2):\n",
    "    number_is_correct(user_number_2)\n",
    "    for part in documents:\n",
    "        if user_number_2 == part['number']:\n",
    "            documents.remove(part)\n",
    "            print('Новый каталог документов:')\n",
    "            print(documents)\n",
    "            break\n",
    "    for new_key in directories:\n",
    "        for new_number in directories[new_key]:\n",
    "            if user_number_2 == new_number:\n",
    "                directories[new_key].remove(new_number)\n",
    "                print('Новый перечень полок с документами:')\n",
    "                print(directories)\n",
    "                break"
   ]
  },
  {
   "cell_type": "code",
   "execution_count": 184,
   "metadata": {},
   "outputs": [],
   "source": [
    "# перемещение на целевую полку\n",
    "def target_shelf(user_doc, user_shelf):\n",
    "    number_is_correct(user_doc)\n",
    "    shelf_is_correct(user_shelf)\n",
    "    y = 0\n",
    "    for t_key in directories:\n",
    "        for t_number in directories[t_key]:\n",
    "            if user_doc == t_number:\n",
    "                directories[t_key].remove(t_number)\n",
    "                directories[user_shelf].append(user_doc)\n",
    "                y = 1\n",
    "                break\n",
    "        if y == 1:\n",
    "            break\n",
    "    if y == 1:\n",
    "        print('Новый перечень полок с документами:')\n",
    "        print(directories)          "
   ]
  },
  {
   "cell_type": "code",
   "execution_count": 89,
   "metadata": {},
   "outputs": [],
   "source": [
    "# добавление документа\n",
    "def new_doc_add(number_1, type_1, name_1, shelf_1):\n",
    "    shelf_is_correct(shelf_1)\n",
    "    for add_key in directories:\n",
    "        if shelf_1 == add_key:\n",
    "            directories[add_key].append(number_1)\n",
    "            print('Новый перечень полок с документами:')\n",
    "            print(directories)\n",
    "            documents.append({'type': type_1, 'number': number_1, 'name': name_1})\n",
    "            print('Новый каталог документов:')\n",
    "            print(documents)\n",
    "            break   "
   ]
  },
  {
   "cell_type": "code",
   "execution_count": 204,
   "metadata": {},
   "outputs": [
    {
     "name": "stdout",
     "output_type": "stream",
     "text": [
      "Введите команду: my - command\n",
      "Команда введена неправильно, повторите ввод команды\n"
     ]
    }
   ],
   "source": [
    "# Реализация команд\n",
    "user_command = input('Введите команду: ')\n",
    "if user_command == 'p – people':\n",
    "    number_document = input('Введите номер документа: ')\n",
    "    number_doc_name(number_document)\n",
    "elif user_command == 's – shelf':\n",
    "    number_document_1 = input('Введите номер документа: ')\n",
    "    number_doc_shelf(number_document_1)\n",
    "elif user_command == 'l – list':\n",
    "    all_documents_list(documents)\n",
    "elif user_command == 'as – add shelf':\n",
    "    shelf_input = input('Введите номер новой полки: ')\n",
    "    shelf_addition(shelf_input)\n",
    "elif user_command == 'd – delete':\n",
    "    number_document_2 = input('Введите номер документа: ')\n",
    "    number_delete(number_document_2)\n",
    "elif user_command == 'm – move':\n",
    "    number_document_3 = input('Введите номер документа: ')\n",
    "    shelf_input_1 = input('Введите номер целевой полки: ')\n",
    "    target_shelf(number_document_3, shelf_input_1)\n",
    "elif user_command == 'a – add':\n",
    "    number_document_4 = input('Введите номер документа: ')\n",
    "    type_input = input('Введите тип документа: ')\n",
    "    name_input = input('Введите имя владельца документа: ')\n",
    "    shelf_input_2 = input('Введите номер полки документа: ')\n",
    "    new_doc_add(number_document_4, type_input, name_input, shelf_input_2)\n",
    "else:\n",
    "    print('Команда введена неправильно, повторите ввод команды')"
   ]
  },
  {
   "cell_type": "code",
   "execution_count": null,
   "metadata": {},
   "outputs": [],
   "source": []
  }
 ],
 "metadata": {
  "kernelspec": {
   "display_name": "Python 3",
   "language": "python",
   "name": "python3"
  },
  "language_info": {
   "codemirror_mode": {
    "name": "ipython",
    "version": 3
   },
   "file_extension": ".py",
   "mimetype": "text/x-python",
   "name": "python",
   "nbconvert_exporter": "python",
   "pygments_lexer": "ipython3",
   "version": "3.7.4"
  }
 },
 "nbformat": 4,
 "nbformat_minor": 2
}
