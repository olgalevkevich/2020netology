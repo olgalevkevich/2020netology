{
 "cells": [
  {
   "cell_type": "markdown",
   "metadata": {},
   "source": [
    "**Задание 1.** Напишите функцию, которая принимает на вход строку и проверяет является ли она валидным транспортным номером. Если да, то функция должна возвращать отдельно номер и регион."
   ]
  },
  {
   "cell_type": "code",
   "execution_count": 115,
   "metadata": {},
   "outputs": [],
   "source": [
    "# считала, что валюдный транспортный номер - это номер где следующая последовательность симоволов: 1 буква, 3 цифры, 2 буквы, \n",
    "# код региона регистрации. Разрешены 12 букв кириллицы, имеющие графические аналоги в латинском алфавите —\n",
    "# А, В, Е, К, М, Н, О, Р, С, Т, У, Х. Буквы означают серию номерного знака, а цифры — номер. Код региона регистрации \n",
    "# состоит из 2 или 3 цифр.\n",
    "def correct_number (transport_number):\n",
    "    import re\n",
    "    reg_number = '([АВЕКМНОРСТУХ]{1})(\\d{3})([АВЕКМНОРСТУХ]{2})(\\d{2})|([АВЕКМНОРСТУХ]{1})(\\d{3})([АВЕКМНОРСТУХ]{2})(\\d{3})'\n",
    "    if re.findall(reg_number, transport_number):\n",
    "        figures = re.findall('\\d{3}(?=[АВЕКМНОРСТУХ]{2})', transport_number)\n",
    "        region = re.findall('(?<=[АВЕКМНОРСТУХ]{2})\\d{2,3}', transport_number)\n",
    "        print('номер: ', figures) \n",
    "        print('код региона: ', region)\n",
    "    else:\n",
    "        print('invalid number')"
   ]
  },
  {
   "cell_type": "code",
   "execution_count": 116,
   "metadata": {},
   "outputs": [
    {
     "name": "stdout",
     "output_type": "stream",
     "text": [
      "номер:  ['078']\n",
      "код региона:  ['78']\n"
     ]
    }
   ],
   "source": [
    "my_number = 'К078ВЕ78'\n",
    "correct_number(my_number)"
   ]
  },
  {
   "cell_type": "markdown",
   "metadata": {},
   "source": [
    "**Задание 2**. Напишите функцию, которая проверяет e-mail адрес на валидность по стандарту RFC822: http://www.w3.org/Protocols/rfc822/. Для этого постарайтесь написать (в крайнем случае найти) самый полный шаблон для проверки e-mail адресов через регулярное выражение. Разберитесь и напишите примеры, какие ваш шаблон может не охватить."
   ]
  },
  {
   "cell_type": "code",
   "execution_count": 199,
   "metadata": {},
   "outputs": [],
   "source": [
    "def correct_e_mail(mail):\n",
    "    import re\n",
    "    reg_mail = '.[!\\$#&\\'*+-=?^_`{|}~A-Za-z\\d\\.]*@[!\\$#&\\'*+-=?^_`{|}~A-Za-z\\d]+\\.[\\.!\\$#&\\'*+-=?^_`{|}~A-Za-z\\d]*'\n",
    "    if re.findall(reg_mail, mail):\n",
    "        print('Правильный e-mail адрес')\n",
    "    else:\n",
    "        print('Неправильный e-mail адрес')"
   ]
  },
  {
   "cell_type": "code",
   "execution_count": 200,
   "metadata": {},
   "outputs": [
    {
     "name": "stdout",
     "output_type": "stream",
     "text": [
      "Правильный e-mail адрес\n"
     ]
    }
   ],
   "source": [
    "my_mail = 'е-mail@mail.mail.ru'\n",
    "correct_e_mail(my_mail)\n",
    "# В правильные e-mail адреса будут попадать адреса: 1) где в локальной части и домене будут использованы и другие символомы\n",
    "# кроме указанных [!\\$#&\\'*+-=?^_`{|}~A-Za-z\\d\\.] 2) адреса типа: .example.@.example.example.   "
   ]
  },
  {
   "cell_type": "markdown",
   "metadata": {},
   "source": [
    "**Задание 3.** Напишите функцию, которая будет удалять все последовательные повторы слов из заданной строки при помощи регулярных выражений."
   ]
  },
  {
   "cell_type": "code",
   "execution_count": 71,
   "metadata": {},
   "outputs": [],
   "source": [
    "# считала, что все слова в строке разделены одним пробелом \n",
    "def word_repeat_delete(my_string):\n",
    "    import re\n",
    "    my_string = ' '+ my_string\n",
    "    clean_string = re.sub(r'(\\ \\w+)\\1+', r'\\1', my_string)\n",
    "    return clean_string"
   ]
  },
  {
   "cell_type": "code",
   "execution_count": 72,
   "metadata": {},
   "outputs": [
    {
     "data": {
      "text/plain": [
       "' мир труд май и лето'"
      ]
     },
     "execution_count": 72,
     "metadata": {},
     "output_type": "execute_result"
    }
   ],
   "source": [
    "input_string = 'мир мир мир труд труд май май май май и лето'\n",
    "word_repeat_delete(input_string)"
   ]
  },
  {
   "cell_type": "markdown",
   "metadata": {},
   "source": [
    "**Задание 4**. Напишите функцию, которая будет проверять номер сотового телефона на валидность, если он валиден, то переводить его в формат:   \n",
    "+7(xxx)-xxx-xx-xx  \n",
    "Постарайтесь предусмотреть как можно больше адекватных форматов изначального ввода номера.\n",
    "Примеры валидных форматов:\n",
    "- +7 955 555-55-55;\n",
    "- 9555555555;\n",
    "- 8(955)555-55-55;\n",
    "- +7 955 555 55 55;\n",
    "- 7(955) 555-55-55;\n",
    "- +7 955+555+55+55."
   ]
  },
  {
   "cell_type": "code",
   "execution_count": 97,
   "metadata": {},
   "outputs": [],
   "source": [
    "def correct_number_format(tel_number):\n",
    "    import re\n",
    "    tel_number_ = re.sub(r'\\D','',tel_number)\n",
    "    if re.findall('\\d{10}', tel_number_) or re.findall('8\\d{10}', tel_number_) or re.findall('7\\d{10}', tel_number_):\n",
    "        correct_number = '+7(' + tel_number_[-10] + tel_number_[-9] + tel_number_[-8] + ')-' + tel_number_[-7] + tel_number_[-6] + tel_number_[-5] + '-' + tel_number_[-4] + tel_number_[-3] + '-' + tel_number_[-2] + tel_number_[-1]\n",
    "        return(correct_number)\n",
    "    else:\n",
    "        print('invalid telephone number')\n"
   ]
  },
  {
   "cell_type": "code",
   "execution_count": 98,
   "metadata": {},
   "outputs": [
    {
     "data": {
      "text/plain": [
       "'+7(955)-650-17-88'"
      ]
     },
     "execution_count": 98,
     "metadata": {},
     "output_type": "execute_result"
    }
   ],
   "source": [
    "my_tel_number = '9556501788'\n",
    "correct_number_format(my_tel_number)"
   ]
  },
  {
   "cell_type": "code",
   "execution_count": null,
   "metadata": {},
   "outputs": [],
   "source": []
  }
 ],
 "metadata": {
  "kernelspec": {
   "display_name": "Python 3",
   "language": "python",
   "name": "python3"
  },
  "language_info": {
   "codemirror_mode": {
    "name": "ipython",
    "version": 3
   },
   "file_extension": ".py",
   "mimetype": "text/x-python",
   "name": "python",
   "nbconvert_exporter": "python",
   "pygments_lexer": "ipython3",
   "version": "3.7.4"
  }
 },
 "nbformat": 4,
 "nbformat_minor": 2
}
