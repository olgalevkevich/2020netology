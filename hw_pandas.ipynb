{
 "cells": [
  {
   "cell_type": "code",
   "execution_count": 49,
   "metadata": {},
   "outputs": [],
   "source": [
    "import pandas as pd"
   ]
  },
  {
   "cell_type": "markdown",
   "metadata": {},
   "source": [
    "Задание 1\n",
    "Скачайте с сайта https://grouplens.org/datasets/movielens/ датасет любого размера. Определите какому фильму было выставлено больше всего оценок 5.0."
   ]
  },
  {
   "cell_type": "code",
   "execution_count": 21,
   "metadata": {},
   "outputs": [
    {
     "data": {
      "text/html": [
       "<div>\n",
       "<style scoped>\n",
       "    .dataframe tbody tr th:only-of-type {\n",
       "        vertical-align: middle;\n",
       "    }\n",
       "\n",
       "    .dataframe tbody tr th {\n",
       "        vertical-align: top;\n",
       "    }\n",
       "\n",
       "    .dataframe thead th {\n",
       "        text-align: right;\n",
       "    }\n",
       "</style>\n",
       "<table border=\"1\" class=\"dataframe\">\n",
       "  <thead>\n",
       "    <tr style=\"text-align: right;\">\n",
       "      <th></th>\n",
       "      <th>userId</th>\n",
       "      <th>movieId</th>\n",
       "      <th>rating</th>\n",
       "      <th>timestamp</th>\n",
       "    </tr>\n",
       "  </thead>\n",
       "  <tbody>\n",
       "    <tr>\n",
       "      <td>0</td>\n",
       "      <td>1</td>\n",
       "      <td>1</td>\n",
       "      <td>4.0</td>\n",
       "      <td>964982703</td>\n",
       "    </tr>\n",
       "    <tr>\n",
       "      <td>1</td>\n",
       "      <td>1</td>\n",
       "      <td>3</td>\n",
       "      <td>4.0</td>\n",
       "      <td>964981247</td>\n",
       "    </tr>\n",
       "    <tr>\n",
       "      <td>2</td>\n",
       "      <td>1</td>\n",
       "      <td>6</td>\n",
       "      <td>4.0</td>\n",
       "      <td>964982224</td>\n",
       "    </tr>\n",
       "    <tr>\n",
       "      <td>3</td>\n",
       "      <td>1</td>\n",
       "      <td>47</td>\n",
       "      <td>5.0</td>\n",
       "      <td>964983815</td>\n",
       "    </tr>\n",
       "    <tr>\n",
       "      <td>4</td>\n",
       "      <td>1</td>\n",
       "      <td>50</td>\n",
       "      <td>5.0</td>\n",
       "      <td>964982931</td>\n",
       "    </tr>\n",
       "  </tbody>\n",
       "</table>\n",
       "</div>"
      ],
      "text/plain": [
       "   userId  movieId  rating  timestamp\n",
       "0       1        1     4.0  964982703\n",
       "1       1        3     4.0  964981247\n",
       "2       1        6     4.0  964982224\n",
       "3       1       47     5.0  964983815\n",
       "4       1       50     5.0  964982931"
      ]
     },
     "execution_count": 21,
     "metadata": {},
     "output_type": "execute_result"
    }
   ],
   "source": [
    "rating_data = pd.read_csv('ratings.csv')\n",
    "rating_data.head()"
   ]
  },
  {
   "cell_type": "code",
   "execution_count": 50,
   "metadata": {},
   "outputs": [
    {
     "data": {
      "text/html": [
       "<div>\n",
       "<style scoped>\n",
       "    .dataframe tbody tr th:only-of-type {\n",
       "        vertical-align: middle;\n",
       "    }\n",
       "\n",
       "    .dataframe tbody tr th {\n",
       "        vertical-align: top;\n",
       "    }\n",
       "\n",
       "    .dataframe thead th {\n",
       "        text-align: right;\n",
       "    }\n",
       "</style>\n",
       "<table border=\"1\" class=\"dataframe\">\n",
       "  <thead>\n",
       "    <tr style=\"text-align: right;\">\n",
       "      <th></th>\n",
       "      <th>userId</th>\n",
       "    </tr>\n",
       "    <tr>\n",
       "      <th>movieId</th>\n",
       "      <th></th>\n",
       "    </tr>\n",
       "  </thead>\n",
       "  <tbody>\n",
       "    <tr>\n",
       "      <td>318</td>\n",
       "      <td>153</td>\n",
       "    </tr>\n",
       "  </tbody>\n",
       "</table>\n",
       "</div>"
      ],
      "text/plain": [
       "         userId\n",
       "movieId        \n",
       "318         153"
      ]
     },
     "execution_count": 50,
     "metadata": {},
     "output_type": "execute_result"
    }
   ],
   "source": [
    "rating_5 = rating_data[rating_data['rating']== 5.0]\n",
    "rating_5[['movieId','userId']].groupby('movieId').count().sort_values('userId', ascending=False).head(1)"
   ]
  },
  {
   "cell_type": "markdown",
   "metadata": {},
   "source": [
    "Задание 2\n",
    "По данным файла power.csv посчитайте суммарное потребление стран Прибалтики (Латвия, Литва и Эстония) категорий 4, 12 и 21 за период с 2005 по 2010 года. Не учитывайте в расчетах отрицательные значения quantity."
   ]
  },
  {
   "cell_type": "code",
   "execution_count": 51,
   "metadata": {},
   "outputs": [
    {
     "data": {
      "text/html": [
       "<div>\n",
       "<style scoped>\n",
       "    .dataframe tbody tr th:only-of-type {\n",
       "        vertical-align: middle;\n",
       "    }\n",
       "\n",
       "    .dataframe tbody tr th {\n",
       "        vertical-align: top;\n",
       "    }\n",
       "\n",
       "    .dataframe thead th {\n",
       "        text-align: right;\n",
       "    }\n",
       "</style>\n",
       "<table border=\"1\" class=\"dataframe\">\n",
       "  <thead>\n",
       "    <tr style=\"text-align: right;\">\n",
       "      <th></th>\n",
       "      <th>country</th>\n",
       "      <th>year</th>\n",
       "      <th>quantity</th>\n",
       "      <th>category</th>\n",
       "    </tr>\n",
       "  </thead>\n",
       "  <tbody>\n",
       "    <tr>\n",
       "      <td>0</td>\n",
       "      <td>Austria</td>\n",
       "      <td>1996</td>\n",
       "      <td>5.0</td>\n",
       "      <td>1</td>\n",
       "    </tr>\n",
       "    <tr>\n",
       "      <td>1</td>\n",
       "      <td>Austria</td>\n",
       "      <td>1995</td>\n",
       "      <td>17.0</td>\n",
       "      <td>1</td>\n",
       "    </tr>\n",
       "    <tr>\n",
       "      <td>2</td>\n",
       "      <td>Belgium</td>\n",
       "      <td>2014</td>\n",
       "      <td>0.0</td>\n",
       "      <td>1</td>\n",
       "    </tr>\n",
       "    <tr>\n",
       "      <td>3</td>\n",
       "      <td>Belgium</td>\n",
       "      <td>2013</td>\n",
       "      <td>0.0</td>\n",
       "      <td>1</td>\n",
       "    </tr>\n",
       "    <tr>\n",
       "      <td>4</td>\n",
       "      <td>Belgium</td>\n",
       "      <td>2012</td>\n",
       "      <td>35.0</td>\n",
       "      <td>1</td>\n",
       "    </tr>\n",
       "  </tbody>\n",
       "</table>\n",
       "</div>"
      ],
      "text/plain": [
       "   country  year  quantity  category\n",
       "0  Austria  1996       5.0         1\n",
       "1  Austria  1995      17.0         1\n",
       "2  Belgium  2014       0.0         1\n",
       "3  Belgium  2013       0.0         1\n",
       "4  Belgium  2012      35.0         1"
      ]
     },
     "execution_count": 51,
     "metadata": {},
     "output_type": "execute_result"
    }
   ],
   "source": [
    "info = pd.read_csv('power.csv')\n",
    "info.head()"
   ]
  },
  {
   "cell_type": "code",
   "execution_count": 52,
   "metadata": {},
   "outputs": [
    {
     "data": {
      "text/plain": [
       "240481.0"
      ]
     },
     "execution_count": 52,
     "metadata": {},
     "output_type": "execute_result"
    }
   ],
   "source": [
    "consumption = info[((info['country'] == 'Lithuania') | (info['country'] == 'Latvia') | (info['country'] == 'Estonia')) & ((info['category'] == 4) | (info['category'] == 12) | (info['category'] == 21)) & ((info['year'] >= 2005) & (info['year'] <= 2010))]\n",
    "consumption['quantity'].sum()"
   ]
  },
  {
   "cell_type": "markdown",
   "metadata": {},
   "source": [
    "Задание 3\n",
    "Выберите страницу любого сайта с табличными данными. Импортируйте таблицы в pandas dataframe."
   ]
  },
  {
   "cell_type": "code",
   "execution_count": 53,
   "metadata": {},
   "outputs": [
    {
     "data": {
      "text/plain": [
       "[                                                  Date  \\\n",
       " 0                                         Mar 26, 2020   \n",
       " 1                                         Mar 25, 2020   \n",
       " 2                                         Mar 24, 2020   \n",
       " 3                                         Mar 23, 2020   \n",
       " 4                                         Mar 20, 2020   \n",
       " ..                                                 ...   \n",
       " 96                                        Nov 06, 2019   \n",
       " 97                                        Nov 05, 2019   \n",
       " 98                                        Nov 04, 2019   \n",
       " 99                                        Nov 01, 2019   \n",
       " 100  *Close price adjusted for splits.**Adjusted cl...   \n",
       " \n",
       "                                                   Open  \\\n",
       " 0                                              2501.29   \n",
       " 1                                              2457.77   \n",
       " 2                                              2344.44   \n",
       " 3                                              2290.71   \n",
       " 4                                              2431.94   \n",
       " ..                                                 ...   \n",
       " 96                                             3075.10   \n",
       " 97                                             3080.80   \n",
       " 98                                             3078.96   \n",
       " 99                                             3050.72   \n",
       " 100  *Close price adjusted for splits.**Adjusted cl...   \n",
       " \n",
       "                                                   High  \\\n",
       " 0                                              2601.78   \n",
       " 1                                              2571.42   \n",
       " 2                                              2449.71   \n",
       " 3                                              2300.73   \n",
       " 4                                              2453.01   \n",
       " ..                                                 ...   \n",
       " 96                                             3078.34   \n",
       " 97                                             3083.95   \n",
       " 98                                             3085.20   \n",
       " 99                                             3066.95   \n",
       " 100  *Close price adjusted for splits.**Adjusted cl...   \n",
       " \n",
       "                                                    Low  \\\n",
       " 0                                              2500.72   \n",
       " 1                                              2407.53   \n",
       " 2                                              2344.44   \n",
       " 3                                              2191.86   \n",
       " 4                                              2295.56   \n",
       " ..                                                 ...   \n",
       " 96                                             3065.89   \n",
       " 97                                             3072.15   \n",
       " 98                                             3074.87   \n",
       " 99                                             3050.72   \n",
       " 100  *Close price adjusted for splits.**Adjusted cl...   \n",
       " \n",
       "                                                 Close*  \\\n",
       " 0                                              2576.83   \n",
       " 1                                              2475.56   \n",
       " 2                                              2447.33   \n",
       " 3                                              2237.40   \n",
       " 4                                              2304.92   \n",
       " ..                                                 ...   \n",
       " 96                                             3076.78   \n",
       " 97                                             3074.62   \n",
       " 98                                             3078.27   \n",
       " 99                                             3066.91   \n",
       " 100  *Close price adjusted for splits.**Adjusted cl...   \n",
       " \n",
       "                                            Adj Close**  \\\n",
       " 0                                              2576.83   \n",
       " 1                                              2475.56   \n",
       " 2                                              2447.33   \n",
       " 3                                              2237.40   \n",
       " 4                                              2304.92   \n",
       " ..                                                 ...   \n",
       " 96                                             3076.78   \n",
       " 97                                             3074.62   \n",
       " 98                                             3078.27   \n",
       " 99                                             3066.91   \n",
       " 100  *Close price adjusted for splits.**Adjusted cl...   \n",
       " \n",
       "                                                 Volume  \n",
       " 0                                           2597798583  \n",
       " 1                                           8285670000  \n",
       " 2                                           7547350000  \n",
       " 3                                           7402180000  \n",
       " 4                                           9044690000  \n",
       " ..                                                 ...  \n",
       " 96                                          4458190000  \n",
       " 97                                          4486130000  \n",
       " 98                                          4146850000  \n",
       " 99                                          3930200000  \n",
       " 100  *Close price adjusted for splits.**Adjusted cl...  \n",
       " \n",
       " [101 rows x 7 columns]]"
      ]
     },
     "execution_count": 53,
     "metadata": {},
     "output_type": "execute_result"
    }
   ],
   "source": [
    "my_page = 'https://finance.yahoo.com/quote/%5EGSPC/history?p=%5EGSPC'\n",
    "my_data = pd.read_html(my_page)\n",
    "my_data"
   ]
  },
  {
   "cell_type": "code",
   "execution_count": null,
   "metadata": {},
   "outputs": [],
   "source": []
  }
 ],
 "metadata": {
  "kernelspec": {
   "display_name": "Python 3",
   "language": "python",
   "name": "python3"
  },
  "language_info": {
   "codemirror_mode": {
    "name": "ipython",
    "version": 3
   },
   "file_extension": ".py",
   "mimetype": "text/x-python",
   "name": "python",
   "nbconvert_exporter": "python",
   "pygments_lexer": "ipython3",
   "version": "3.7.4"
  }
 },
 "nbformat": 4,
 "nbformat_minor": 2
}
