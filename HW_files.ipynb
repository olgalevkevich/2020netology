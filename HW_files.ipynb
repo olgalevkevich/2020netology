{
 "cells": [
  {
   "cell_type": "markdown",
   "metadata": {},
   "source": [
    "Домашнее задание\n",
    "1.Переведите содержимое файла purchase_log.txt в словарь purchases вида:\n",
    "\n",
    "{'1840e0b9d4': 'Продукты', ...}\n",
    "2.Для каждого user_id в файле visit_log.csv добавьте третий столбец с категорией покупки (если покупка была).\n",
    "\n",
    "3.Запишите в файл funnel.csv визиты из файла visit_log.csv, в которых были покупки с указанием категории.\n",
    "\n",
    "Учтите условия на данные:\n",
    "\n",
    "содержимое purchase_log.txt помещается в оперативную память компьютера\n",
    "содержимое visit_log.csv - нет; используйте только построчную обработку этого файла"
   ]
  },
  {
   "cell_type": "code",
   "execution_count": 57,
   "metadata": {
    "scrolled": false
   },
   "outputs": [],
   "source": [
    "# задание 1\n",
    "import json\n",
    "with open('purchase_log.txt', 'r', encoding = 'utf-8') as f:\n",
    "    content = f.readlines()\n",
    "    purchases = {}\n",
    "    i = 0\n",
    "    for line in content:\n",
    "        line_1 = json.loads(line)\n",
    "        if i > 0:\n",
    "            if line_1['user_id'] not in purchases: \n",
    "                purchases[line_1['user_id']] = line_1['category']\n",
    "            else: \n",
    "                purchases[line_1['user_id']] = purchases[line_1['user_id']] + ';' + line_1['category']\n",
    "        i += 1\n",
    "#         if i == 100:\n",
    "#             break\n",
    "# print(purchases)"
   ]
  },
  {
   "cell_type": "code",
   "execution_count": 58,
   "metadata": {},
   "outputs": [
    {
     "data": {
      "text/plain": [
       "<function TextIOWrapper.close()>"
      ]
     },
     "execution_count": 58,
     "metadata": {},
     "output_type": "execute_result"
    }
   ],
   "source": [
    "# задание 2\n",
    "with open('visit_log.csv', 'r') as v1:\n",
    "    with open('new_visit_log.csv', 'w') as v2:\n",
    "        v2.write('user_id,source,category'+'\\n')\n",
    "        j = 0\n",
    "        for visit in v1:\n",
    "            new_lyst = visit.strip().split(',')\n",
    "            if purchases.get(new_lyst[0]) != None:\n",
    "                new_record = ','.join(new_lyst)  + ',' + purchases[new_lyst[0]] +'\\n'\n",
    "                v2.write(new_record)\n",
    "            else:\n",
    "                if j > 0:\n",
    "                    new_record = ','.join(new_lyst) +'\\n'\n",
    "                    v2.write(new_record)\n",
    "            j += 1 \n",
    "v1.close\n",
    "v2.close"
   ]
  },
  {
   "cell_type": "code",
   "execution_count": 59,
   "metadata": {},
   "outputs": [
    {
     "data": {
      "text/plain": [
       "<function TextIOWrapper.close()>"
      ]
     },
     "execution_count": 59,
     "metadata": {},
     "output_type": "execute_result"
    }
   ],
   "source": [
    "# задание 3 \n",
    "with open('visit_log.csv', 'r') as f1:\n",
    "    with open('funnel.csv', 'w') as f2:\n",
    "        f2.write('user_id,source,category'+'\\n')\n",
    "        for new_line in f1:\n",
    "            my_lyst = new_line.strip().split(',')\n",
    "            if purchases.get(my_lyst[0]) != None:\n",
    "                record = ','.join(my_lyst)  + ',' + purchases[my_lyst[0]] +'\\n'\n",
    "                f2.write(record)\n",
    "f2.close"
   ]
  },
  {
   "cell_type": "code",
   "execution_count": null,
   "metadata": {},
   "outputs": [],
   "source": []
  }
 ],
 "metadata": {
  "kernelspec": {
   "display_name": "Python 3",
   "language": "python",
   "name": "python3"
  },
  "language_info": {
   "codemirror_mode": {
    "name": "ipython",
    "version": 3
   },
   "file_extension": ".py",
   "mimetype": "text/x-python",
   "name": "python",
   "nbconvert_exporter": "python",
   "pygments_lexer": "ipython3",
   "version": "3.7.4"
  }
 },
 "nbformat": 4,
 "nbformat_minor": 2
}
