{
 "cells": [
  {
   "cell_type": "code",
   "execution_count": 63,
   "metadata": {},
   "outputs": [],
   "source": [
    "import numpy as np\n",
    "import matplotlib.pyplot as plt"
   ]
  },
  {
   "cell_type": "markdown",
   "metadata": {},
   "source": [
    "## Задание 1"
   ]
  },
  {
   "cell_type": "markdown",
   "metadata": {},
   "source": [
    "Изобразите с помощью matplotlib. Изобразите точку x + 2y + 3z. Найдите угол между векторами x, y и x, z. "
   ]
  },
  {
   "cell_type": "code",
   "execution_count": 64,
   "metadata": {},
   "outputs": [],
   "source": [
    "x = np.array([1,1])\n",
    "y = np.array([2, 0])\n",
    "z = np.array([0,2])"
   ]
  },
  {
   "cell_type": "code",
   "execution_count": 65,
   "metadata": {},
   "outputs": [
    {
     "name": "stdout",
     "output_type": "stream",
     "text": [
      "[5 7]\n"
     ]
    }
   ],
   "source": [
    "a = x + 2 * y + 3 * z\n",
    "print(a)"
   ]
  },
  {
   "cell_type": "code",
   "execution_count": 66,
   "metadata": {},
   "outputs": [
    {
     "data": {
      "image/png": "[encoded data removed]",
      "text/plain": [
       "<Figure size 432x288 with 1 Axes>"
      ]
     },
     "metadata": {
      "needs_background": "light"
     },
     "output_type": "display_data"
    }
   ],
   "source": [
    "plt.plot([1, 2, 0, 5], [1, 0, 2, 7], 'ro')\n",
    "plt.axis([0, 8, 0, 8])\n",
    "plt.text(0.95, 1.2, r'x')\n",
    "plt.text(0.05, 2.3, r'z')\n",
    "plt.text(1.95, 0.3, r'y')\n",
    "plt.text(4.95, 7.2, r'a')\n",
    "plt.show()"
   ]
  },
  {
   "cell_type": "code",
   "execution_count": 67,
   "metadata": {},
   "outputs": [],
   "source": [
    "def my_arccos(a, b):\n",
    "    a_=np.linalg.norm(a)\n",
    "    b_=np.linalg.norm(b)\n",
    "    cos_ab = np.dot(a, b)/(a_ * b_)\n",
    "    corner = round(np.arccos(cos_ab) * 360 / 2 / 3.14)\n",
    "    print('угол между векорми', a, b, 'равен', corner, 'градусов')"
   ]
  },
  {
   "cell_type": "code",
   "execution_count": 68,
   "metadata": {},
   "outputs": [
    {
     "name": "stdout",
     "output_type": "stream",
     "text": [
      "угол между векорми [1 1] [2 0] равен 45.0 градусов\n"
     ]
    }
   ],
   "source": [
    "my_arccos(x, y)"
   ]
  },
  {
   "cell_type": "code",
   "execution_count": 69,
   "metadata": {},
   "outputs": [
    {
     "name": "stdout",
     "output_type": "stream",
     "text": [
      "угол между векорми [1 1] [0 2] равен 45.0 градусов\n"
     ]
    }
   ],
   "source": [
    "my_arccos(x, z)"
   ]
  },
  {
   "cell_type": "markdown",
   "metadata": {},
   "source": [
    "## Задание 2"
   ]
  },
  {
   "cell_type": "markdown",
   "metadata": {},
   "source": [
    "Найдите собственные значения и собственные вектора матриц (необходимо решение на numpy и решение по алгоритму на бумажке). Для матрицы 3x3 можно посмотреть на корни характеристического многочлена, посчитанные в numpy."
   ]
  },
  {
   "cell_type": "code",
   "execution_count": 70,
   "metadata": {},
   "outputs": [],
   "source": [
    "m1 = np.array([[2, 2],\n",
    "               [1, 3]])\n",
    "\n",
    "m2 = np.array([[4, 1, -1],\n",
    "               [1, 4, -1],\n",
    "               [-1, -1, 4]])"
   ]
  },
  {
   "cell_type": "code",
   "execution_count": 71,
   "metadata": {},
   "outputs": [
    {
     "name": "stdout",
     "output_type": "stream",
     "text": [
      "собственные знаячения матрицы m1: [1. 4.]\n",
      "собственные вектора матрицы m1: [[-0.89442719 -0.70710678]\n",
      " [ 0.4472136  -0.70710678]]\n"
     ]
    }
   ],
   "source": [
    "w, v = np.linalg.eig(m1)\n",
    "print('собственные знаячения матрицы m1:', w)\n",
    "print('собственные вектора матрицы m1:', v)"
   ]
  },
  {
   "cell_type": "markdown",
   "metadata": {},
   "source": [
    "Расчет на \"бумажке\" для матрицы m1: определитель матрицы для расчета собственых значений --> Λ^2-5Λ+4 = 0 --> D=25-16=9 - уравнение имеет 2 корня -->  собственные значения: Λ1=(5-3)/2=1; Λ2=(5+3)/2=4.\n",
    "Для Λ1 = 1 --> система уравнений: x+2y=0 и x+2y=0 --> x=-2y - множество решений.\n",
    "Для Λ2 = 4 --> система уравнений: -x+y=0 и x-y=0  --> x=y - множество решений."
   ]
  },
  {
   "cell_type": "code",
   "execution_count": 73,
   "metadata": {},
   "outputs": [
    {
     "name": "stdout",
     "output_type": "stream",
     "text": [
      "собственные знаячения матрицы m2: [6. 3. 3.]\n",
      "собственные вектора матрицы m2: [[-0.57735027 -0.81649658  0.15430335]\n",
      " [-0.57735027  0.40824829  0.6172134 ]\n",
      " [ 0.57735027 -0.40824829  0.77151675]]\n"
     ]
    }
   ],
   "source": [
    "x, y = np.linalg.eig(m2)\n",
    "print('собственные знаячения матрицы m2:', x)\n",
    "print('собственные вектора матрицы m2:', y)"
   ]
  },
  {
   "cell_type": "markdown",
   "metadata": {},
   "source": [
    "Расчет на \"бумажке\" для матрицы m1: определитель матрицы для расчета собственых значений --> (4-Λ)^3-3(4-Λ)+2=0. \n",
    "Для Λ1 = 6 --> система уравнений: x+y-z=0; x+y-z=0; -x-y+z=0 --> x+y=z.\n",
    "Для Λ2 и Λ3  = 3 --> система уравнений: -2x+y-z=0; x-2y-z=0; -x-y-2z=0 --> x=y x=-z y=-z"
   ]
  },
  {
   "cell_type": "markdown",
   "metadata": {},
   "source": [
    "## Задание 3"
   ]
  },
  {
   "cell_type": "markdown",
   "metadata": {},
   "source": [
    "Найдите сингулярное разложение матрицы."
   ]
  },
  {
   "cell_type": "code",
   "execution_count": 45,
   "metadata": {},
   "outputs": [],
   "source": [
    "m3 = np.array([[1, 2],\n",
    "               [2, 3]])"
   ]
  },
  {
   "cell_type": "code",
   "execution_count": 46,
   "metadata": {},
   "outputs": [
    {
     "data": {
      "text/plain": [
       "(array([[-0.52573111, -0.85065081],\n",
       "        [-0.85065081,  0.52573111]]),\n",
       " array([4.23606798, 0.23606798]),\n",
       " array([[-0.52573111, -0.85065081],\n",
       "        [ 0.85065081, -0.52573111]]))"
      ]
     },
     "execution_count": 46,
     "metadata": {},
     "output_type": "execute_result"
    }
   ],
   "source": [
    "np.linalg.svd(m3)"
   ]
  }
 ],
 "metadata": {
  "kernelspec": {
   "display_name": "Python 3",
   "language": "python",
   "name": "python3"
  },
  "language_info": {
   "codemirror_mode": {
    "name": "ipython",
    "version": 3
   },
   "file_extension": ".py",
   "mimetype": "text/x-python",
   "name": "python",
   "nbconvert_exporter": "python",
   "pygments_lexer": "ipython3",
   "version": "3.7.4"
  }
 },
 "nbformat": 4,
 "nbformat_minor": 2
}
