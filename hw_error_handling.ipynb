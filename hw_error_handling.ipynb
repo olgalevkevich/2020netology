{
 "cells": [
  {
   "cell_type": "markdown",
   "metadata": {},
   "source": [
    "Задание 1\n",
    "Напишите функцию date_range, которая возвращает список дней между датами start_date и end_date. Даты должны вводиться в формате YYYY-MM-DD."
   ]
  },
  {
   "cell_type": "code",
   "execution_count": 40,
   "metadata": {},
   "outputs": [
    {
     "name": "stdout",
     "output_type": "stream",
     "text": [
      "Введите начальную дату в фомате YYYY-MM-DD: 2020-02-23\n",
      "Введите конечную дату в фомате YYYY-MM-DD: 2020-03-08\n"
     ]
    },
    {
     "data": {
      "text/plain": [
       "['2020-02-23',\n",
       " '2020-02-24',\n",
       " '2020-02-25',\n",
       " '2020-02-26',\n",
       " '2020-02-27',\n",
       " '2020-02-28',\n",
       " '2020-02-29',\n",
       " '2020-03-01',\n",
       " '2020-03-02',\n",
       " '2020-03-03',\n",
       " '2020-03-04',\n",
       " '2020-03-05',\n",
       " '2020-03-06',\n",
       " '2020-03-07',\n",
       " '2020-03-08']"
      ]
     },
     "execution_count": 40,
     "metadata": {},
     "output_type": "execute_result"
    }
   ],
   "source": [
    "def date_range(start_date, end_date):\n",
    "    from datetime import datetime\n",
    "    from datetime import timedelta\n",
    "    d_start_date = datetime.strptime(start_date, '%Y-%m-%d')\n",
    "    d_end_date = datetime.strptime(end_date, '%Y-%m-%d')\n",
    "    change_date = d_start_date\n",
    "    date_list = []\n",
    "    while change_date <= d_end_date:\n",
    "        date_list.append(change_date.strftime('%Y-%m-%d'))\n",
    "        change_date += timedelta(days=1)\n",
    "    return date_list\n",
    "my_start_day = input('Введите начальную дату в фомате YYYY-MM-DD: ')\n",
    "my_end_day = input('Введите конечную дату в фомате YYYY-MM-DD: ')\n",
    "date_range(my_start_day, my_end_day)"
   ]
  },
  {
   "cell_type": "markdown",
   "metadata": {},
   "source": [
    "Задание 2\n",
    "Дополните функцию из первого задания проверкой на корректность дат. В случае неверного формата или если start_date > end_date должен возвращаться пустой список."
   ]
  },
  {
   "cell_type": "code",
   "execution_count": 41,
   "metadata": {},
   "outputs": [
    {
     "name": "stdout",
     "output_type": "stream",
     "text": [
      "Введите начальную дату в фомате YYYY-MM-DD: 02.03.2019\n",
      "Введите конечную дату в фомате YYYY-MM-DD: 2019-01-05\n"
     ]
    },
    {
     "data": {
      "text/plain": [
       "[]"
      ]
     },
     "execution_count": 41,
     "metadata": {},
     "output_type": "execute_result"
    }
   ],
   "source": [
    "def date_range_1(start_date_1, end_date_1):\n",
    "    from datetime import datetime\n",
    "    from datetime import timedelta\n",
    "    i = 0 \n",
    "    try:\n",
    "        d_start_date_1 = datetime.strptime(start_date_1, '%Y-%m-%d')\n",
    "        d_end_date_1 = datetime.strptime(end_date_1, '%Y-%m-%d')\n",
    "        start_date_1 > end_date_1\n",
    "    except ValueError:\n",
    "        date_list_1 = []\n",
    "        i = 1\n",
    "    if i == 0:  \n",
    "        d_start_date_1 = datetime.strptime(start_date_1, '%Y-%m-%d')\n",
    "        d_end_date_1 = datetime.strptime(end_date_1, '%Y-%m-%d')\n",
    "        change_date_1 = d_start_date_1\n",
    "        date_list_1 = []\n",
    "        while change_date_1 <= d_end_date_1:\n",
    "            date_list_1.append(change_date_1.strftime('%Y-%m-%d'))\n",
    "            change_date_1 += timedelta(days=1)\n",
    "    return date_list_1\n",
    "my_start_day_1 = input('Введите начальную дату в фомате YYYY-MM-DD: ')\n",
    "my_end_day_1 = input('Введите конечную дату в фомате YYYY-MM-DD: ')\n",
    "date_range_1(my_start_day_1, my_end_day_1)"
   ]
  },
  {
   "cell_type": "markdown",
   "metadata": {},
   "source": [
    "Задание 3\n",
    "Дан поток дат в формате YYYY-MM-DD, в которых встречаются некорректные значения:\n",
    "stream = [‘2018-04-02’, ‘2018-02-29’, ‘2018-19-02’]\n",
    "\n",
    "Напишите функцию, которая проверяет эти даты на корректность. Т. е. для каждой даты возвращает True (дата корректна) или False (некорректная дата)."
   ]
  },
  {
   "cell_type": "code",
   "execution_count": 5,
   "metadata": {},
   "outputs": [
    {
     "name": "stdout",
     "output_type": "stream",
     "text": [
      "2018-04-02 True\n",
      "2018-02-29 False\n",
      "2018-19-02 False\n"
     ]
    }
   ],
   "source": [
    "def correct_date(stream):\n",
    "    from datetime import datetime\n",
    "    for element in stream:\n",
    "        j = 0 \n",
    "        try:\n",
    "            datetime.strptime(element, '%Y-%m-%d')\n",
    "        except ValueError:\n",
    "            print(element, 'False')\n",
    "            j = 1\n",
    "        if j == 0:\n",
    "            print(element, 'True')\n",
    "my_stream = ['2018-04-02', '2018-02-29', '2018-19-02']\n",
    "correct_date(my_stream)         "
   ]
  },
  {
   "cell_type": "markdown",
   "metadata": {},
   "source": [
    "Задание 4 (бонусное)\n",
    "Ваш коллега прислал код функции:\n",
    "\n",
    "DEFAULT_USER_COUNT = 3\n",
    "\n",
    "def delete_and_return_last_user(region, default_list=[‘A100’, ‘A101’, ‘A102’]):\n",
    "\"\"“\n",
    "Удаляет из списка default_list последнего пользователя\n",
    "и возвращает ID нового последнего пользователя.\n",
    "”\"\"\n",
    "element_to_delete = default_list[-1]\n",
    "default_list.remove(element_to_delete)\n",
    "\n",
    "return default_list[DEFAULT_USER_COUNT-2]\n",
    "При однократном вызове этой функции все работает корректно:\n",
    "delete_and_return_last_user(1)\n",
    "‘A101’\n",
    "\n",
    "Однако, при повторном вызове получается ошибка IndexError: list index out of range.\n",
    "\n",
    "Задание:\n",
    "\n",
    "Что значит ошибка list index out of range?\n",
    "Почему при первом запуске функция работает корректно, а при втором - нет?"
   ]
  },
  {
   "cell_type": "markdown",
   "metadata": {},
   "source": [
    "1) Ошибка \"IndexError: list index out of range\" возникает когда мы пытаемся получить доступ к элементу списка через индекс, а элемента с таким индексом в списке не существует.\n",
    "\n",
    "2) При первом запуске функция работает корректно, так как мы обращаемся (default_list[DEFAULT_USER_COUNT-2]) к элементу с индексом 1 = 3-2 в списке default_list = ['A100', 'A101] и элемент с индексом 1 есть в этом списке.  При повторном запуске функции, список \"на входе\": default_list = ['A100', 'A101']; после удаления последненго элемента, список становится таким: default_list = ['A100'] и при обращении к элементу списка с индексом 1 (default_list[DEFAULT_USER_COUNT-2]) возникает ошибка \"IndexError: list index out of range\", так как в списке default_list = ['A100'] есть элемент только с индексом 0, а элемент с индексом 1 - отсутствует. "
   ]
  },
  {
   "cell_type": "code",
   "execution_count": null,
   "metadata": {},
   "outputs": [],
   "source": []
  }
 ],
 "metadata": {
  "kernelspec": {
   "display_name": "Python 3",
   "language": "python",
   "name": "python3"
  },
  "language_info": {
   "codemirror_mode": {
    "name": "ipython",
    "version": 3
   },
   "file_extension": ".py",
   "mimetype": "text/x-python",
   "name": "python",
   "nbconvert_exporter": "python",
   "pygments_lexer": "ipython3",
   "version": "3.7.4"
  }
 },
 "nbformat": 4,
 "nbformat_minor": 2
}
